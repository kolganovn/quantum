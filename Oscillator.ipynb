{
 "cells": [
  {
   "cell_type": "code",
   "execution_count": 46,
   "metadata": {},
   "outputs": [],
   "source": [
    "from scipy.special import hermite\n",
    "from scipy.integrate import quad\n",
    "from numpy import pi, sqrt, exp, conj, real, imag, sin, cos\n",
    "from math import factorial\n",
    "import numpy as np\n",
    "import matplotlib.pyplot as plt"
   ]
  },
  {
   "cell_type": "markdown",
   "metadata": {},
   "source": [
    "Полиномы Эрмита\n",
    "$$\n",
    "    H_n(x)= e^{x^2/2} \\left(\\frac{d}{dx} - x\\right)^n e^{-x^2/2}\n",
    "$$\n",
    "Функции Эрмита\n",
    "$$\n",
    "    \\mathcal H_n(x) = \\frac{1}{\\pi^{1/4} 2^{n/2} \\sqrt{n!}} H_n(x) \\, e^{-x^2/2}\n",
    "$$\n",
    "Нормировка функций Эрмита\n",
    "$$\n",
    "    (\\mathcal H_n, \\mathcal H_m) = \\int_{-\\infty}^{\\infty} dx \\, \\mathcal H_n(x)\\, \\mathcal H_m(x) = \\delta_{nm}\n",
    "$$"
   ]
  },
  {
   "cell_type": "code",
   "execution_count": 2,
   "metadata": {},
   "outputs": [],
   "source": [
    "def herm_n(k):\n",
    "    '''Возвращает нормированный полином Эрмита.\n",
    "    '''\n",
    "    return hermite(k) / (2**(k/2) * pi**(1/4) * sqrt(factorial(k)))\n",
    "\n",
    "def herm_f(k, x):\n",
    "    '''Возвращает нормированную функцию Эрмита.\n",
    "    '''\n",
    "    return herm_n(k)(x) * exp(-x**2 / 2)"
   ]
  },
  {
   "cell_type": "markdown",
   "metadata": {},
   "source": [
    "По функциям Эрмита можно разложить произвольную функцию $f(x)$, достаточно быстро затухающую на бесконечности\n",
    "$$\n",
    "    f_n = (\\mathcal H_n, f) = \\int_{-\\infty}^{\\infty} dx \\, \\mathcal H_n(x)\\, f(x)\n",
    "$$\n",
    "$$\n",
    "    f(x) = \\sum_{n=0}^\\infty f_n \\, \\mathcal H_n(x)\n",
    "$$"
   ]
  },
  {
   "cell_type": "code",
   "execution_count": 13,
   "metadata": {},
   "outputs": [],
   "source": [
    "def proj(k, f):\n",
    "    '''Возвращает проекцию функции f на k-ую функцию Эрмита\n",
    "    '''\n",
    "    return quad(lambda x: herm_f(k, x) * f(x), -100, 100)[0]"
   ]
  },
  {
   "cell_type": "markdown",
   "metadata": {},
   "source": [
    "Уравнение Шрёдингера для осциллятора\n",
    "$$\n",
    "    i \\hbar \\partial_t \\psi(t, x) = \\left(-\\frac{\\hbar^2}{2m}\\frac{\\partial^2}{\\partial x^2} + \\frac{m \\omega x^2}{2}\\right) \\psi(t, x)\n",
    "$$\n",
    "Если время и координаты выразить в единицах\n",
    "$$\n",
    "    x_0 = \\sqrt{\\frac{\\hbar}{m\\omega}}, \\qquad t_0 = \\frac{2\\pi}{\\omega},\n",
    "$$\n",
    "оно примет вид\n",
    "$$\n",
    "    i \\partial_t \\psi(t, x) = \\pi \\left(-\\frac{\\partial^2}{\\partial x^2} + x^2\\right) \\psi(t, x).\n",
    "$$\n",
    "Решениями стационарного уравнения Шрёдингера\n",
    "$$\n",
    "    \\pi \\left(-\\frac{\\partial^2}{\\partial x^2} + x^2\\right) \\psi(x) = E \\, \\psi(x).\n",
    "$$\n",
    "являются функции Эрмита\n",
    "$$\n",
    "    \\pi \\left(-\\frac{\\partial^2}{\\partial x^2} + x^2\\right) \\mathcal H_n(x) = E_n \\, \\mathcal H_n(x), \\quad E_n = 2\\pi \\, (n + \\tfrac12).\n",
    "$$\n",
    "Тогда $\\mathcal H_n(x) \\, e^{-iE_n t}$ решают нестационарное уравнение Шрёдингера, и проивольное решение имеет вид\n",
    "$$\n",
    "    \\psi(t, x) = \\sum_{n=0}^\\infty \\psi_n \\, \\mathcal H_n(x) \\, e^{-2\\pi i (n + \\frac12)t},\n",
    "$$\n",
    "где $\\psi_n$ определяются начальным профилем волновой функции $\\psi(x)$ в момент $t=0$\n",
    "$$\n",
    "    \\psi_n = (\\mathcal H_n, \\psi) = \\int_{-\\infty}^{\\infty} dx \\, \\mathcal H_n(x)\\, \\psi(x)\n",
    "$$"
   ]
  },
  {
   "cell_type": "markdown",
   "metadata": {},
   "source": [
    "Взятие производной и умножение функции Эрмита на $x$ снова выражается через функции Эрмита\n",
    "\\begin{align}\n",
    "    \\frac{d}{dx} \\mathcal H_n(x) &= \\sqrt{\\frac{n}{2}} \\mathcal H_{n-1}(x) - \\sqrt{\\frac{n+1}{2}} \\mathcal H_{n+1}(x)\\\\\n",
    "    x \\mathcal H_n(x) &= \\sqrt{\\frac{n}{2}} \\mathcal H_{n-1}(x) + \\sqrt{\\frac{n+1}{2}} \\mathcal H_{n+1}(x)\n",
    "\\end{align}"
   ]
  },
  {
   "cell_type": "code",
   "execution_count": 57,
   "metadata": {},
   "outputs": [],
   "source": [
    "class Oscillator():\n",
    "    def __init__(self, in_cond, N=10):\n",
    "        norm = sqrt(quad(lambda x: abs(in_cond(x))**2, -100, 100)[0])\n",
    "        self.in_cond = lambda x: in_cond(x) / norm\n",
    "        \n",
    "        self.N = N\n",
    "        \n",
    "        self.coefs = []\n",
    "        for k in range(N):\n",
    "            self.coefs.append(proj(k, self.in_cond))\n",
    "    \n",
    "    def ampl(self, t):\n",
    "        return lambda x: sum([self.coefs[k] * herm_f(k, x) * exp(-2.j*pi*(k + 0.5)*t) \n",
    "                              for k in range(self.N)])\n",
    "    \n",
    "    def prob(self, t):\n",
    "        return lambda x: abs(self.ampl(t)(x))**2\n",
    "    \n",
    "    def momentum(self, t):\n",
    "        coefs = np.array(self.coefs)\n",
    "        m = np.array(range(0, self.N - 1))\n",
    "        return (sqrt(2*(m + 1)) * imag(coefs[1:] * conj(coefs[:-1])) * cos(2*pi*t) - \n",
    "                sqrt(2*(m + 1)) * real(coefs[1:] * conj(coefs[:-1])) * sin(2*pi*t)).sum()\n",
    "    \n",
    "    def coord(self, t):\n",
    "        coefs = np.array(self.coefs)\n",
    "        m = np.array(range(0, self.N - 1))\n",
    "        return (sqrt(2*(m + 1)) * real(coefs[1:] * conj(coefs[:-1])) * cos(2*pi*t) + \n",
    "                sqrt(2*(m + 1)) * imag(coefs[1:] * conj(coefs[:-1])) * sin(2*pi*t)).sum()"
   ]
  },
  {
   "cell_type": "code",
   "execution_count": 58,
   "metadata": {},
   "outputs": [],
   "source": [
    "osc = Oscillator(lambda x: exp(-abs((x-1))), N=20)"
   ]
  },
  {
   "cell_type": "code",
   "execution_count": 59,
   "metadata": {},
   "outputs": [
    {
     "data": {
      "image/png": "[encoded data removed]",
      "text/plain": [
       "<Figure size 432x288 with 1 Axes>"
      ]
     },
     "metadata": {
      "needs_background": "light"
     },
     "output_type": "display_data"
    }
   ],
   "source": [
    "l_t = np.linspace(0, 1, 100)\n",
    "plt.plot(l_t, [osc.momentum(t) for t in l_t], label=\"Momentum\")\n",
    "plt.plot(l_t, [osc.coord(t) for t in l_t], label=\"Coordinate\")\n",
    "plt.legend()\n",
    "plt.show()"
   ]
  },
  {
   "cell_type": "code",
   "execution_count": 31,
   "metadata": {},
   "outputs": [
    {
     "data": {
      "image/png": "[encoded data removed]",
      "text/plain": [
       "<Figure size 432x288 with 1 Axes>"
      ]
     },
     "metadata": {
      "needs_background": "light"
     },
     "output_type": "display_data"
    }
   ],
   "source": [
    "l = np.linspace(-4, 4, 100)\n",
    "plt.plot(l, [osc.in_cond(x)**2 for x in l], label=\"Initial condition\")\n",
    "plt.plot(l, [osc.prob(1)(x) for x in l])\n",
    "plt.legend()\n",
    "plt.show()"
   ]
  },
  {
   "cell_type": "markdown",
   "metadata": {},
   "source": [
    "Задание:\n",
    "1. Найти волновую функцию локализованной частицы с ненулевым начальным импульсом.\n",
    "2. Найти срекнеквадратичное отклонение координаты и импульса относительно среднего значения в зависимости от времени.\n",
    "3. Найти зависимость этих среднеквадратичных отклонений от степени локализованности (характерной ширины графика волновой функции в начальный момент)"
   ]
  },
  {
   "cell_type": "code",
   "execution_count": null,
   "metadata": {},
   "outputs": [],
   "source": []
  }
 ],
 "metadata": {
  "kernelspec": {
   "display_name": "Python 3",
   "language": "python",
   "name": "python3"
  },
  "language_info": {
   "codemirror_mode": {
    "name": "ipython",
    "version": 3
   },
   "file_extension": ".py",
   "mimetype": "text/x-python",
   "name": "python",
   "nbconvert_exporter": "python",
   "pygments_lexer": "ipython3",
   "version": "3.6.9"
  }
 },
 "nbformat": 4,
 "nbformat_minor": 4
}
