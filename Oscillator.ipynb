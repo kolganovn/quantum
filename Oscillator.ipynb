{
 "cells": [
  {
   "cell_type": "code",
   "execution_count": 194,
   "metadata": {
    "scrolled": false
   },
   "outputs": [],
   "source": [
    "from scipy.special import hermite\n",
    "from scipy.integrate import quad\n",
    "from numpy import pi, sqrt, exp, conj, real, imag, sin, cos, dot\n",
    "from math import factorial, gamma\n",
    "import numpy as np\n",
    "import matplotlib\n",
    "import matplotlib.pyplot as plt\n",
    "from matplotlib.animation import FuncAnimation"
   ]
  },
  {
   "cell_type": "markdown",
   "metadata": {},
   "source": [
    "Полиномы Эрмита\n",
    "$$\n",
    "    H_n(x)= e^{x^2/2} \\left(\\frac{d}{dx} - x\\right)^n e^{-x^2/2}\n",
    "$$\n",
    "Функции Эрмита\n",
    "$$\n",
    "    \\mathcal H_n(x) = \\frac{1}{\\pi^{1/4} 2^{n/2} \\sqrt{n!}} H_n(x) \\, e^{-x^2/2}\n",
    "$$\n",
    "Нормировка функций Эрмита\n",
    "$$\n",
    "    (\\mathcal H_n, \\mathcal H_m) = \\int_{-\\infty}^{\\infty} dx \\, \\mathcal H_n(x)\\, \\mathcal H_m(x) = \\delta_{nm}\n",
    "$$"
   ]
  },
  {
   "cell_type": "code",
   "execution_count": 100,
   "metadata": {},
   "outputs": [],
   "source": [
    "def herm_n(k):\n",
    "    '''Возвращает нормированный полином Эрмита.\n",
    "    '''\n",
    "    return hermite(k) / (2**(k/2) * pi**(1/4) * sqrt(gamma(k+1)))\n",
    "\n",
    "def herm_f(k, x):\n",
    "    '''Возвращает нормированную функцию Эрмита.\n",
    "    '''\n",
    "    return herm_n(k)(x) * exp(-x**2 / 2)"
   ]
  },
  {
   "cell_type": "markdown",
   "metadata": {},
   "source": [
    "По функциям Эрмита можно разложить произвольную функцию $f(x)$, достаточно быстро затухающую на бесконечности\n",
    "$$\n",
    "    f_n = (\\mathcal H_n, f) = \\int_{-\\infty}^{\\infty} dx \\, \\mathcal H_n(x)\\, f(x)\n",
    "$$\n",
    "$$\n",
    "    f(x) = \\sum_{n=0}^\\infty f_n \\, \\mathcal H_n(x)\n",
    "$$\n",
    "Функции Эрмита $\\mathcal H_n(x)$ имеют осциллирующее поведение при $|x| < x_n \\equiv \\sqrt{2n+1}$ и экспоненциально затухаюи при $|x| > x_n$\n",
    "$$\n",
    "    \\mathcal H_n(x) \\sim \\exp\\left(-\\frac23 \\left(2^{1/2} n^{1/6} ||x| - x_n|\\right)^{3/2}\\right), \\quad n > 0.\n",
    "$$\n",
    "Зная это поведение можно задать интервал интегрирования согласно требуемой точности."
   ]
  },
  {
   "cell_type": "code",
   "execution_count": 151,
   "metadata": {},
   "outputs": [],
   "source": [
    "C = 10      #задаёт точность\n",
    "\n",
    "def proj(k, f):\n",
    "    '''Возвращает проекцию функции f на k-ую функцию Эрмита\n",
    "    '''\n",
    "    x_lim = 0\n",
    "    if k:\n",
    "        x_lim = sqrt(2*k + 1) + (C)**(2/3) * k**(-1/6) \n",
    "    else:\n",
    "        x_lim = sqrt(3 * C)\n",
    "    return quad(lambda x: herm_f(k, x) * f(x), -dx, dx)[0]"
   ]
  },
  {
   "cell_type": "markdown",
   "metadata": {},
   "source": [
    "Взятие производной и умножение функции Эрмита на $x$ снова выражается через функции Эрмита\n",
    "\\begin{align}\n",
    "    \\frac{d}{dx} \\mathcal H_n(x) &= \\sqrt{\\frac{n}{2}} \\mathcal H_{n-1}(x) - \\sqrt{\\frac{n+1}{2}} \\mathcal H_{n+1}(x)\\\\\n",
    "    x \\mathcal H_n(x) &= \\sqrt{\\frac{n}{2}} \\mathcal H_{n-1}(x) + \\sqrt{\\frac{n+1}{2}} \\mathcal H_{n+1}(x)\n",
    "\\end{align}"
   ]
  },
  {
   "cell_type": "code",
   "execution_count": 300,
   "metadata": {},
   "outputs": [],
   "source": [
    "class HermiteF():\n",
    "    '''Класс, содержащий в себе представление некоторой функции в виде ряда по функциям Эрмита.\n",
    "    '''\n",
    "    def __init__(self, source, **kwargs):\n",
    "        if callable(source):\n",
    "            coefs = []\n",
    "            for k in range(kwargs['N']):\n",
    "                coefs.append(proj(k, self.in_cond))\n",
    "            self.coefs = np.array(coefs)\n",
    "        elif hasattr(source, '__iter__'):\n",
    "            self.coefs = np.array(source)\n",
    "        \n",
    "    def __mul__(self, inst):\n",
    "        '''Умножение на число или на линейную комбинацию функций Эрмита. \n",
    "        '''\n",
    "        if isinstance(inst, HermiteF):\n",
    "            min_l = min(len(self.coefs), len(inst.coefs))\n",
    "            return dot(conj(self.coefs[:min_l]), inst.coefs[:min_l]).sum()\n",
    "        elif isinstance(inst, (float, complex, int)):\n",
    "            return HermiteF(inst * self.coefs)\n",
    "        \n",
    "    def __rmul__(self, inst):\n",
    "        '''Правое умножение на число. \n",
    "        '''\n",
    "        if isinstance(inst, (float, complex, int)):\n",
    "            return HermiteF(inst * self.coefs)\n",
    "        \n",
    "    def normalize(self):\n",
    "        '''Нормировка на единицу.\n",
    "        '''\n",
    "        norm = sqrt(self * self)\n",
    "        self.coefs /= norm\n",
    "        \n",
    "    def __call__(self, arg):\n",
    "        return sum([coef * herm_f(k, arg) for k, coef in enumerate(self.coefs)])\n",
    "    \n",
    "    def __str__(self):\n",
    "        return str(self.coefs)\n",
    "    \n",
    "    def mul_x(self):\n",
    "        '''Умножение на x.\n",
    "        '''\n",
    "        l = self.coefs.shape[0]\n",
    "        new_c = np.zeros((l + 1,), dtype=self.coefs.dtype)\n",
    "        m = np.array(range(l+1))\n",
    "        new_c[1:] += sqrt(m[1:]/2) * self.coefs\n",
    "        new_c[:-2] += sqrt(m[1:-1]/2) * self.coefs[1:]\n",
    "        self.coefs = new_c\n",
    "        \n",
    "    def der_x(self):\n",
    "        '''Производная по x.\n",
    "        '''\n",
    "        l = self.coefs.shape[0]\n",
    "        new_c = np.zeros((l + 1,), dtype=self.coefs.dtype)\n",
    "        m = np.array(range(l+1))\n",
    "        new_c[1:] -= sqrt(m[1:]/2) * self.coefs\n",
    "        new_c[:-2] += sqrt(m[1:-1]/2) * self.coefs[1:]\n",
    "        self.coefs = new_c\n",
    "        \n",
    "    def __repr__(self):\n",
    "        return \"HermiteF([\" + \", \".join(map(str, self.coefs.tolist())) + \"])\""
   ]
  },
  {
   "cell_type": "code",
   "execution_count": 301,
   "metadata": {},
   "outputs": [
    {
     "name": "stdout",
     "output_type": "stream",
     "text": [
      "[0.70710678 0.         0.70710678]\n"
     ]
    },
    {
     "data": {
      "image/png": "[encoded data removed]",
      "text/plain": [
       "<Figure size 432x288 with 1 Axes>"
      ]
     },
     "metadata": {
      "needs_background": "light"
     },
     "output_type": "display_data"
    }
   ],
   "source": [
    "l = np.linspace(-5, 5, 100)\n",
    "h = HermiteF([1., 0, 1.])\n",
    "h.normalize()\n",
    "print(h)\n",
    "plt.plot(l, [h(p) for p in l])\n",
    "plt.show()"
   ]
  },
  {
   "cell_type": "markdown",
   "metadata": {},
   "source": [
    "Уравнение Шрёдингера для осциллятора\n",
    "$$\n",
    "    i \\hbar \\partial_t \\psi(t, x) = \\left(-\\frac{\\hbar^2}{2m}\\frac{\\partial^2}{\\partial x^2} + \\frac{m \\omega x^2}{2}\\right) \\psi(t, x)\n",
    "$$\n",
    "Если время и координаты выразить в единицах\n",
    "$$\n",
    "    x_0 = \\sqrt{\\frac{\\hbar}{m\\omega}}, \\qquad t_0 = \\frac{2\\pi}{\\omega},\n",
    "$$\n",
    "оно примет вид\n",
    "$$\n",
    "    i \\partial_t \\psi(t, x) = \\pi \\left(-\\frac{\\partial^2}{\\partial x^2} + x^2\\right) \\psi(t, x).\n",
    "$$\n",
    "Решениями стационарного уравнения Шрёдингера\n",
    "$$\n",
    "    \\pi \\left(-\\frac{\\partial^2}{\\partial x^2} + x^2\\right) \\psi(x) = E \\, \\psi(x).\n",
    "$$\n",
    "являются функции Эрмита\n",
    "$$\n",
    "    \\pi \\left(-\\frac{\\partial^2}{\\partial x^2} + x^2\\right) \\mathcal H_n(x) = E_n \\, \\mathcal H_n(x), \\quad E_n = 2\\pi \\, (n + \\tfrac12).\n",
    "$$\n",
    "Тогда $\\mathcal H_n(x) \\, e^{-iE_n t}$ решают нестационарное уравнение Шрёдингера, и проивольное решение имеет вид\n",
    "$$\n",
    "    \\psi(t, x) = \\sum_{n=0}^\\infty \\psi_n \\, \\mathcal H_n(x) \\, e^{-2\\pi i (n + \\frac12)t},\n",
    "$$\n",
    "где $\\psi_n$ определяются начальным профилем волновой функции $\\psi(x)$ в момент $t=0$\n",
    "$$\n",
    "    \\psi_n = (\\mathcal H_n, \\psi) = \\int_{-\\infty}^{\\infty} dx \\, \\mathcal H_n(x)\\, \\psi(x)\n",
    "$$"
   ]
  },
  {
   "cell_type": "code",
   "execution_count": 302,
   "metadata": {},
   "outputs": [],
   "source": [
    "class Oscillator():\n",
    "    def __init__(self, in_cond, N=10):        \n",
    "        if callable(in_cond):\n",
    "            self.N = N\n",
    "            norm = sqrt(quad(lambda x: abs(in_cond(x))**2, -100, 100)[0])\n",
    "            self.in_cond = lambda x: in_cond(x) / norm\n",
    "            self.coefs = []\n",
    "            for k in range(N):\n",
    "                self.coefs.append(proj(k, self.in_cond))\n",
    "        elif hasattr(in_cond, '__iter__'):\n",
    "            norm = sqrt(sum(map(lambda x: abs(x)**2, in_cond)))\n",
    "            self.coefs = list(map(lambda x: x / norm, in_cond))\n",
    "            self.N = len(in_cond)\n",
    "            self.in_cond = lambda x: self.ampl(0)(x)\n",
    "    \n",
    "    def ampl(self, t):\n",
    "        return lambda x: sum([self.coefs[k] * herm_f(k, x) * exp(-2.j*pi*(k + 0.5)*t) \n",
    "                              for k in range(self.N)])\n",
    "    \n",
    "    def prob(self, t):\n",
    "        return lambda x: abs(self.ampl(t)(x))**2\n",
    "    \n",
    "    def momentum(self, t):\n",
    "        coefs = np.array(self.coefs)\n",
    "        m = np.array(range(0, self.N - 1))\n",
    "        return (sqrt(2*(m + 1)) * imag(coefs[1:] * conj(coefs[:-1])) * cos(2*pi*t) - \n",
    "                sqrt(2*(m + 1)) * real(coefs[1:] * conj(coefs[:-1])) * sin(2*pi*t)).sum()\n",
    "    \n",
    "    def coord(self, t):\n",
    "        coefs = np.array(self.coefs)\n",
    "        m = np.array(range(0, self.N - 1))\n",
    "        return (sqrt(2*(m + 1)) * real(coefs[1:] * conj(coefs[:-1])) * cos(2*pi*t) + \n",
    "                sqrt(2*(m + 1)) * imag(coefs[1:] * conj(coefs[:-1])) * sin(2*pi*t)).sum()"
   ]
  },
  {
   "cell_type": "code",
   "execution_count": 303,
   "metadata": {},
   "outputs": [],
   "source": [
    "osc = Oscillator(lambda x: exp(-x**2 + cos(5*x)), N=30)\n",
    "# osc = Oscillator([(0+5.j)**n / sqrt(gamma(n+1)) for n in range(100)])"
   ]
  },
  {
   "cell_type": "code",
   "execution_count": 304,
   "metadata": {},
   "outputs": [
    {
     "data": {
      "image/png": "[encoded data removed]",
      "text/plain": [
       "<Figure size 432x288 with 1 Axes>"
      ]
     },
     "metadata": {
      "needs_background": "light"
     },
     "output_type": "display_data"
    }
   ],
   "source": [
    "l_t = np.linspace(0, 1, 100)\n",
    "plt.plot(l_t, [osc.momentum(t) for t in l_t], label=\"Momentum\")\n",
    "plt.plot(l_t, [osc.coord(t) for t in l_t], label=\"Coordinate\")\n",
    "plt.legend()\n",
    "plt.show()"
   ]
  },
  {
   "cell_type": "code",
   "execution_count": 305,
   "metadata": {},
   "outputs": [
    {
     "data": {
      "image/png": "[encoded data removed]",
      "text/plain": [
       "<Figure size 432x288 with 1 Axes>"
      ]
     },
     "metadata": {
      "needs_background": "light"
     },
     "output_type": "display_data"
    }
   ],
   "source": [
    "l = np.linspace(-3, 3, 200)\n",
    "plt.plot(l, [abs(osc.in_cond(x))**2 for x in l], label=\"Initial condition\")\n",
    "plt.plot(l, [osc.prob(0.7)(x) for x in l])\n",
    "plt.legend()\n",
    "plt.show()"
   ]
  },
  {
   "cell_type": "markdown",
   "metadata": {},
   "source": [
    "Задание:\n",
    "1. Найти волновую функцию локализованной частицы с ненулевым начальным импульсом.\n",
    "2. Найти срекнеквадратичное отклонение координаты и импульса относительно среднего значения в зависимости от времени.\n",
    "3. Найти зависимость этих среднеквадратичных отклонений от степени локализованности (характерной ширины графика волновой функции в начальный момент)"
   ]
  },
  {
   "cell_type": "code",
   "execution_count": 32,
   "metadata": {},
   "outputs": [
    {
     "data": {
      "image/png": "[encoded data removed]",
      "text/plain": [
       "<Figure size 432x288 with 1 Axes>"
      ]
     },
     "metadata": {
      "needs_background": "light"
     },
     "output_type": "display_data"
    }
   ],
   "source": [
    "fig = plt.figure()\n",
    "ax = plt.axes(xlim=(-3, 3), ylim=(0, 2))\n",
    "line, = ax.plot([], [], lw=3)\n",
    " \n",
    "def init():\n",
    "    line.set_data([], [])\n",
    "    return line,\n",
    "def animate(t):\n",
    "    x = np.linspace(-3, 3, 100)\n",
    "    prob = osc.prob(t)\n",
    "    y = [prob(p) for p in x]\n",
    "    line.set_data(x, y)\n",
    "    return line,\n",
    " \n",
    "anim = FuncAnimation(fig, animate, init_func=init,\n",
    "                               frames=np.linspace(0, 1, 128), interval=20, blit=True)\n",
    "#сохранение в GIF\n",
    "anim.save('coherent.gif', writer='imagemagick')"
   ]
  },
  {
   "cell_type": "code",
   "execution_count": 68,
   "metadata": {},
   "outputs": [
    {
     "data": {
      "text/plain": [
       "2.0"
      ]
     },
     "execution_count": 68,
     "metadata": {},
     "output_type": "execute_result"
    }
   ],
   "source": [
    "gamma(3)"
   ]
  },
  {
   "cell_type": "code",
   "execution_count": 191,
   "metadata": {},
   "outputs": [
    {
     "name": "stdout",
     "output_type": "stream",
     "text": [
      "0.002284496628388991\n"
     ]
    }
   ],
   "source": [
    "n = 4\n",
    "C = 4\n",
    "dx = 0\n",
    "if n:\n",
    "    dx = sqrt(2*n + 1) + (3 * C / 2**(7/4))**(2/3) * n**(-1/6) \n",
    "else:\n",
    "    dx = sqrt(C) + 2.5\n",
    "# ls = np.linspace(-dx, dx, 1000)\n",
    "# plt.plot(ls, [herm_f(n, p) for p in ls])\n",
    "# plt.show()\n",
    "print(herm_f(n, dx))"
   ]
  },
  {
   "cell_type": "code",
   "execution_count": 197,
   "metadata": {},
   "outputs": [
    {
     "data": {
      "text/plain": [
       "False"
      ]
     },
     "execution_count": 197,
     "metadata": {},
     "output_type": "execute_result"
    }
   ],
   "source": [
    "isinstance(1, float)"
   ]
  },
  {
   "cell_type": "code",
   "execution_count": 199,
   "metadata": {},
   "outputs": [
    {
     "data": {
      "text/plain": [
       "[(0, 5), (1, 6), (2, 7)]"
      ]
     },
     "execution_count": 199,
     "metadata": {},
     "output_type": "execute_result"
    }
   ],
   "source": [
    "list(enumerate([5, 6, 7]))"
   ]
  },
  {
   "cell_type": "code",
   "execution_count": 259,
   "metadata": {},
   "outputs": [
    {
     "data": {
      "text/plain": [
       "dtype('int64')"
      ]
     },
     "execution_count": 259,
     "metadata": {},
     "output_type": "execute_result"
    }
   ],
   "source": [
    "a = np.array([1, 2, 3])\n",
    "b = np.zeros((a.shape[0]+1,), dtype=a.dtype)\n",
    "b.dtype"
   ]
  },
  {
   "cell_type": "code",
   "execution_count": 291,
   "metadata": {},
   "outputs": [
    {
     "data": {
      "text/plain": [
       "'1, 2, 3'"
      ]
     },
     "execution_count": 291,
     "metadata": {},
     "output_type": "execute_result"
    }
   ],
   "source": [
    "\", \".join(map(str, a.tolist()))"
   ]
  },
  {
   "cell_type": "code",
   "execution_count": null,
   "metadata": {},
   "outputs": [],
   "source": []
  }
 ],
 "metadata": {
  "kernelspec": {
   "display_name": "Python 3",
   "language": "python",
   "name": "python3"
  },
  "language_info": {
   "codemirror_mode": {
    "name": "ipython",
    "version": 3
   },
   "file_extension": ".py",
   "mimetype": "text/x-python",
   "name": "python",
   "nbconvert_exporter": "python",
   "pygments_lexer": "ipython3",
   "version": "3.6.9"
  }
 },
 "nbformat": 4,
 "nbformat_minor": 4
}
