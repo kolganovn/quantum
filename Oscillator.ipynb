{
 "cells": [
  {
   "cell_type": "code",
   "execution_count": 2,
   "metadata": {
    "scrolled": false
   },
   "outputs": [],
   "source": [
    "from scipy.special import hermite\n",
    "from scipy.integrate import quad\n",
    "from numpy import pi, sqrt, exp, conj, real, imag, sin, cos, dot\n",
    "from math import factorial, gamma\n",
    "import numpy as np\n",
    "import matplotlib\n",
    "import matplotlib.pyplot as plt\n",
    "from matplotlib.animation import FuncAnimation\n",
    "# %matplotlib qt"
   ]
  },
  {
   "cell_type": "markdown",
   "metadata": {},
   "source": [
    "Полиномы Эрмита\n",
    "$$\n",
    "    H_n(x)= e^{x^2/2} \\left(\\frac{d}{dx} - x\\right)^n e^{-x^2/2}\n",
    "$$\n",
    "Функции Эрмита\n",
    "$$\n",
    "    \\mathcal H_n(x) = \\frac{1}{\\pi^{1/4} 2^{n/2} \\sqrt{n!}} H_n(x) \\, e^{-x^2/2}\n",
    "$$\n",
    "Нормировка функций Эрмита\n",
    "$$\n",
    "    (\\mathcal H_n, \\mathcal H_m) = \\int_{-\\infty}^{\\infty} dx \\, \\mathcal H_n(x)\\, \\mathcal H_m(x) = \\delta_{nm}\n",
    "$$"
   ]
  },
  {
   "cell_type": "code",
   "execution_count": 3,
   "metadata": {},
   "outputs": [],
   "source": [
    "def herm_n(k):\n",
    "    '''Возвращает нормированный полином Эрмита.\n",
    "    '''\n",
    "    return hermite(k) / (2**(k/2) * pi**(1/4) * sqrt(gamma(k+1)))\n",
    "\n",
    "def herm_f(k, x):\n",
    "    '''Возвращает нормированную функцию Эрмита.\n",
    "    '''\n",
    "    return herm_n(k)(x) * exp(-x**2 / 2)"
   ]
  },
  {
   "cell_type": "markdown",
   "metadata": {},
   "source": [
    "По функциям Эрмита можно разложить произвольную функцию $f(x)$, достаточно быстро затухающую на бесконечности\n",
    "$$\n",
    "    f_n = (\\mathcal H_n, f) = \\int_{-\\infty}^{\\infty} dx \\, \\mathcal H_n(x)\\, f(x)\n",
    "$$\n",
    "$$\n",
    "    f(x) = \\sum_{n=0}^\\infty f_n \\, \\mathcal H_n(x)\n",
    "$$\n",
    "Функции Эрмита $\\mathcal H_n(x)$ имеют осциллирующее поведение при $|x| < x_n \\equiv \\sqrt{2n+1}$ и экспоненциально затухают при $|x| > x_n$\n",
    "$$\n",
    "    \\mathcal H_n(x) \\sim \\exp\\left(-\\frac23 \\left(2^{1/2} n^{1/6} ||x| - x_n|\\right)^{3/2}\\right), \\quad n > 0.\n",
    "$$\n",
    "Зная это поведение можно задать интервал интегрирования согласно требуемой точности."
   ]
  },
  {
   "cell_type": "code",
   "execution_count": 4,
   "metadata": {},
   "outputs": [],
   "source": [
    "C = 10      #задаёт точность\n",
    "\n",
    "def proj(k, f):\n",
    "    '''Возвращает проекцию функции f на k-ую функцию Эрмита\n",
    "    '''\n",
    "    x_lim = 0\n",
    "    if k:\n",
    "        x_lim = sqrt(2*k + 1) + (C)**(2/3) * k**(-1/6) \n",
    "    else:\n",
    "        x_lim = sqrt(3 * C)\n",
    "    return quad(lambda x: herm_f(k, x) * f(x), -dx, dx)[0]"
   ]
  },
  {
   "cell_type": "markdown",
   "metadata": {},
   "source": [
    "Взятие производной и умножение функции Эрмита на $x$ снова выражается через функции Эрмита\n",
    "\\begin{align}\n",
    "    \\frac{d}{dx} \\mathcal H_n(x) &= \\sqrt{\\frac{n}{2}} \\mathcal H_{n-1}(x) - \\sqrt{\\frac{n+1}{2}} \\mathcal H_{n+1}(x)\\\\\n",
    "    x \\mathcal H_n(x) &= \\sqrt{\\frac{n}{2}} \\mathcal H_{n-1}(x) + \\sqrt{\\frac{n+1}{2}} \\mathcal H_{n+1}(x)\n",
    "\\end{align}"
   ]
  },
  {
   "cell_type": "code",
   "execution_count": 5,
   "metadata": {},
   "outputs": [],
   "source": [
    "class HermiteF():\n",
    "    '''Класс, содержащий в себе представление некоторой функции в виде ряда по функциям Эрмита.\n",
    "    '''\n",
    "    def __init__(self, source, **kwargs):\n",
    "        if callable(source):\n",
    "            coefs = []\n",
    "            for k in range(kwargs['N']):\n",
    "                coefs.append(proj(k, self.in_cond))\n",
    "            self.coefs = np.array(coefs)\n",
    "        elif hasattr(source, '__iter__'):\n",
    "            self.coefs = np.array(source)\n",
    "        \n",
    "    def __mul__(self, inst):\n",
    "        '''Умножение на число или на линейную комбинацию функций Эрмита. \n",
    "        '''\n",
    "        if isinstance(inst, HermiteF):\n",
    "            min_l = min(len(self.coefs), len(inst.coefs))\n",
    "            return dot(conj(self.coefs[:min_l]), inst.coefs[:min_l]).sum()\n",
    "        elif isinstance(inst, (float, complex, int)):\n",
    "            return HermiteF(inst * self.coefs)\n",
    "        \n",
    "    def __rmul__(self, inst):\n",
    "        '''Правое умножение на число. \n",
    "        '''\n",
    "        if isinstance(inst, (float, complex, int)):\n",
    "            return HermiteF(inst * self.coefs)\n",
    "        \n",
    "    def __truediv__(self, inst):\n",
    "        if isinstance(inst, (float, complex, int)):\n",
    "            return HermiteF(inst**(-1) * self.coefs)\n",
    "        \n",
    "    def normalize(self):\n",
    "        '''Нормировка на единицу.\n",
    "        '''\n",
    "        norm = sqrt(self * self)\n",
    "        self.coefs = self.coefs / norm\n",
    "        \n",
    "    def __call__(self, arg):\n",
    "        return sum([coef * herm_f(k, arg) for k, coef in enumerate(self.coefs)])\n",
    "    \n",
    "    def __str__(self):\n",
    "        return str(self.coefs)\n",
    "    \n",
    "    def mul_x(self, k=1):\n",
    "        '''Умножение на x^k.\n",
    "        '''\n",
    "        if k == 1:\n",
    "            l = self.coefs.shape[0]\n",
    "            new_c = np.zeros((l + 1,), dtype=self.coefs.dtype)\n",
    "            m = np.array(range(l+1))\n",
    "            new_c[1:] += sqrt(m[1:]/2) * self.coefs\n",
    "            new_c[:-2] += sqrt(m[1:-1]/2) * self.coefs[1:]\n",
    "            self.coefs = new_c\n",
    "        else:\n",
    "            self.mul_x()\n",
    "            self.mul_x(k-1)\n",
    "        \n",
    "    def der_x(self, k=1):\n",
    "        '''k-ая производная по x.\n",
    "        '''\n",
    "        if k == 1:\n",
    "            l = self.coefs.shape[0]\n",
    "            new_c = np.zeros((l + 1,), dtype=self.coefs.dtype)\n",
    "            m = np.array(range(l+1))\n",
    "            new_c[1:] -= sqrt(m[1:]/2) * self.coefs\n",
    "            new_c[:-2] += sqrt(m[1:-1]/2) * self.coefs[1:]\n",
    "            self.coefs = new_c\n",
    "        else:\n",
    "            self.der_x()\n",
    "            self.der_x(k-1)\n",
    "        \n",
    "    def __repr__(self):\n",
    "        return \"HermiteF([\" + \", \".join(map(str, self.coefs.tolist())) + \"])\""
   ]
  },
  {
   "cell_type": "markdown",
   "metadata": {},
   "source": [
    "Уравнение Шрёдингера для осциллятора\n",
    "$$\n",
    "    i \\hbar \\partial_t \\psi(t, x) = \\left(-\\frac{\\hbar^2}{2m}\\frac{\\partial^2}{\\partial x^2} + \\frac{m \\omega x^2}{2}\\right) \\psi(t, x)\n",
    "$$\n",
    "Если время и координаты выразить в единицах\n",
    "$$\n",
    "    x_0 = \\sqrt{\\frac{\\hbar}{m\\omega}}, \\qquad t_0 = \\frac{2\\pi}{\\omega},\n",
    "$$\n",
    "оно примет вид\n",
    "$$\n",
    "    i \\partial_t \\psi(t, x) = \\pi \\left(-\\frac{\\partial^2}{\\partial x^2} + x^2\\right) \\psi(t, x).\n",
    "$$\n",
    "Решениями стационарного уравнения Шрёдингера\n",
    "$$\n",
    "    \\pi \\left(-\\frac{\\partial^2}{\\partial x^2} + x^2\\right) \\psi(x) = E \\, \\psi(x).\n",
    "$$\n",
    "являются функции Эрмита\n",
    "$$\n",
    "    \\pi \\left(-\\frac{\\partial^2}{\\partial x^2} + x^2\\right) \\mathcal H_n(x) = E_n \\, \\mathcal H_n(x), \\quad E_n = 2\\pi \\, (n + \\tfrac12).\n",
    "$$\n",
    "Тогда $\\mathcal H_n(x) \\, e^{-iE_n t}$ решают нестационарное уравнение Шрёдингера, и проивольное решение имеет вид\n",
    "$$\n",
    "    \\psi(t, x) = \\sum_{n=0}^\\infty \\psi_n \\, \\mathcal H_n(x) \\, e^{-2\\pi i (n + \\frac12)t},\n",
    "$$\n",
    "где $\\psi_n$ определяются начальным профилем волновой функции $\\psi(x)$ в момент $t=0$\n",
    "$$\n",
    "    \\psi_n = (\\mathcal H_n, \\psi) = \\int_{-\\infty}^{\\infty} dx \\, \\mathcal H_n(x)\\, \\psi(x)\n",
    "$$"
   ]
  },
  {
   "cell_type": "code",
   "execution_count": 6,
   "metadata": {},
   "outputs": [],
   "source": [
    "class Oscillator(HermiteF):\n",
    "    def __init__(self, source, **kwargs):\n",
    "        super().__init__(source, **kwargs)\n",
    "        self.normalize()\n",
    "        \n",
    "    def evolve(self, t):\n",
    "        '''Эволюционирует вектор состояния на время t.\n",
    "        '''\n",
    "        k = np.arange(self.coefs.shape[0])\n",
    "        self.coefs = self.coefs * exp(-2.j * pi * (k + 0.5) * t)\n",
    "        \n",
    "    def __call__(self, x, t=0, rtype='ampl'):\n",
    "        ans = sum([coef * herm_f(k, x) * exp(-2.j*pi*(k+0.5)*t)\n",
    "                        for k, coef in enumerate(self.coefs)])\n",
    "        if rtype == 'ampl':\n",
    "            return ans\n",
    "        elif rtype == 'prob':\n",
    "            return abs(ans)**2\n",
    "        \n",
    "    def coord(self, t=0, k=1):\n",
    "        '''Возвращает среднее от x^k в момент времени t.\n",
    "        '''\n",
    "        h = Oscillator(self.coefs)\n",
    "        g = Oscillator(self.coefs)\n",
    "        h.evolve(t)\n",
    "        g.evolve(t)\n",
    "        h.mul_x(k)\n",
    "        return real(g * h)\n",
    "    \n",
    "    def momentum(self, t=0, k=1):\n",
    "        '''Возвращает среднее от p^k в момент времени t.\n",
    "        '''\n",
    "        h = Oscillator(self.coefs)\n",
    "        g = Oscillator(self.coefs)\n",
    "        h.evolve(t)\n",
    "        g.evolve(t)\n",
    "        h.der_x(k)\n",
    "        h = h * (-1.j)**k\n",
    "        return real(g * h)"
   ]
  },
  {
   "cell_type": "code",
   "execution_count": 7,
   "metadata": {},
   "outputs": [],
   "source": [
    "# Когерентное состояние\n",
    "a = (1 + 1.j) / sqrt(2)\n",
    "osc = Oscillator([a**k / sqrt(gamma(k+1)) for k in range(20)])"
   ]
  },
  {
   "cell_type": "code",
   "execution_count": 8,
   "metadata": {},
   "outputs": [
    {
     "data": {
      "image/png": "[encoded data removed]",
      "text/plain": [
       "<Figure size 432x288 with 1 Axes>"
      ]
     },
     "metadata": {
      "needs_background": "light"
     },
     "output_type": "display_data"
    }
   ],
   "source": [
    "ls = np.linspace(0, 1, 100)\n",
    "plt.plot(ls, [osc.momentum(t, k=1) for t in ls], label=\"Momentum\")\n",
    "plt.plot(ls, [osc.coord(t, k=1) for t in ls], label=\"Coordinate\")\n",
    "plt.legend()\n",
    "plt.show()"
   ]
  },
  {
   "cell_type": "code",
   "execution_count": 9,
   "metadata": {},
   "outputs": [
    {
     "data": {
      "image/png": "[encoded data removed]",
      "text/plain": [
       "<Figure size 432x288 with 1 Axes>"
      ]
     },
     "metadata": {
      "needs_background": "light"
     },
     "output_type": "display_data"
    }
   ],
   "source": [
    "l_x = np.linspace(-3, 3, 200)\n",
    "plt.plot(l_x, [osc(x, 0, 'prob') for x in l_x], label=\"$t = 0$\")\n",
    "plt.plot(l_x, [osc(x, 0.6, 'prob') for x in l_x], label=\"$t = 0.6$\")\n",
    "plt.legend()\n",
    "plt.show()"
   ]
  },
  {
   "cell_type": "markdown",
   "metadata": {},
   "source": [
    "Задание:\n",
    "1. Найти волновую функцию локализованной частицы с ненулевым начальным импульсом.\n",
    "2. Найти срекнеквадратичное отклонение координаты и импульса относительно среднего значения в зависимости от времени.\n",
    "3. Найти зависимость этих среднеквадратичных отклонений от степени локализованности (характерной ширины графика волновой функции в начальный момент)"
   ]
  },
  {
   "cell_type": "code",
   "execution_count": 10,
   "metadata": {},
   "outputs": [
    {
     "data": {
      "image/png": "[encoded data removed]",
      "text/plain": [
       "<Figure size 432x288 with 1 Axes>"
      ]
     },
     "metadata": {
      "needs_background": "light"
     },
     "output_type": "display_data"
    }
   ],
   "source": [
    "fig, ax = plt.subplots()\n",
    "xdata, ydata = [], []\n",
    "ln, = plt.plot([], [])\n",
    "xdata = np.linspace(-4, 4, 200)\n",
    "\n",
    "def init():\n",
    "    ax.set_xlim(-4, 4)\n",
    "    ax.set_ylim(0, 1)\n",
    "    return ln,\n",
    "\n",
    "def update(frame):\n",
    "    ydata = [osc(x, frame, 'prob') for x in xdata]\n",
    "    ln.set_data(xdata, ydata)\n",
    "    return ln,\n",
    "\n",
    "ani = FuncAnimation(fig, update, frames=np.linspace(0, 1, 128),\n",
    "                    init_func=init, blit=True)\n",
    "plt.show()\n",
    "\n",
    "ani.save(\"coherent.gif\", writer=\"imagemagick\")"
   ]
  },
  {
   "cell_type": "code",
   "execution_count": null,
   "metadata": {},
   "outputs": [],
   "source": []
  }
 ],
 "metadata": {
  "kernelspec": {
   "display_name": "Python 3",
   "language": "python",
   "name": "python3"
  },
  "language_info": {
   "codemirror_mode": {
    "name": "ipython",
    "version": 3
   },
   "file_extension": ".py",
   "mimetype": "text/x-python",
   "name": "python",
   "nbconvert_exporter": "python",
   "pygments_lexer": "ipython3",
   "version": "3.6.9"
  }
 },
 "nbformat": 4,
 "nbformat_minor": 4
}
